{
 "cells": [
  {
   "cell_type": "markdown",
   "metadata": {},
   "source": [
    "### **Task 1: Create Directory Structure**\n",
    "\n",
    "In github code spaces using the terminal command line:\n",
    "\n",
    "1. Navigate to the root of the repository \n",
    "- **cd** /workspaces/computer-infrastructure-assessment\n",
    "2. Create a 'data' directory with two subdirectories 'timestamps' and 'weather'\n",
    "- **mkdir** -p data/timestamps data/weather"
   ]
  },
  {
   "cell_type": "markdown",
   "metadata": {},
   "source": [
    "### **Task 2: Timestamps**\n",
    "\n",
    "1. Navigate to the data/timestamps directory\n",
    "- **cd** data/timestamps\n",
    "2. Use 'date' command to output the current date and time to a text file named 'now.txt'\n",
    "- **date**>> now.txt\n",
    "3. Repeat this 10 times using by making a 'for' loop using '>>' as to append the file rather than overwriting it. \n",
    "- **for** i **in** {1..10}; **do date** >> now.txt; **done**\n",
    "4. Use the 'more' command to verify the content of 'now.txt'\n",
    "- **more** now.txt\n",
    "\n",
    "[Reference:'Date' command in Linux](https://www.geeksforgeeks.org/date-command-linux-examples/t)<br/>\n",
    "[Reference: Write current date/time to a file](https://stackoverflow.com/questions/43221469/write-current-date-time-to-a-file-using-shell-script)<br/>\n",
    "[Reference: Run date command a number of times in Linux](https://www.cyberciti.biz/faq/bsd-appleosx-linux-bash-shell-run-command-n-times/)\n",
    "\n"
   ]
  }
 ],
 "metadata": {
  "language_info": {
   "name": "python"
  }
 },
 "nbformat": 4,
 "nbformat_minor": 2
}
