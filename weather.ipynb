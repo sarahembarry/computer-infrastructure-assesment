{
 "cells": [
  {
   "cell_type": "markdown",
   "metadata": {},
   "source": [
    "### **Task 1: Create Directory Structure**\n",
    "\n",
    "In GitHub Codespaces using the terminal command line:\n",
    "\n",
    "1. Navigate to the root of the repository: \n",
    "   - `cd /workspaces/computer-infrastructure-assessment`\n",
    "   \n",
    "2. Create a `data` directory with two subdirectories: `timestamps` and `weather`:\n",
    "   - `mkdir -p data/timestamps data/weather`"
   ]
  },
  {
   "cell_type": "markdown",
   "metadata": {},
   "source": [
    "\n",
    "### **Task 2: Timestamps**\n",
    "\n",
    "1. Navigate to the `data/timestamps` directory:\n",
    "   - `cd data/timestamps`\n",
    "   \n",
    "2. Use the `date` command to output the current date and time to a text file named `now.txt`:\n",
    "   - `date >> now.txt`\n",
    "   \n",
    "3. Repeat this 10 times by creating a for loop that appends to the file rather than overwriting it:\n",
    "   - `for i in {1..10}; do date >> now.txt; done`\n",
    "   \n",
    "4. Use the `cat` command to read and verify the contents of `now.txt`:\n",
    "   - `cat now.txt`\n",
    "\n",
    "\n",
    "[Reference: 'Date' command in Linux](https://www.geeksforgeeks.org/date-command-linux-examples/t)<br/>\n",
    "[Reference: Write current date/time to a file](https://stackoverflow.com/questions/43221469/write-current-date-time-to-a-file-using-shell-script)<br/>\n",
    "[Reference: Run date command a number of times in Linux](https://www.cyberciti.biz/faq/bsd-appleosx-linux-bash-shell-run-command-n-times/)"
   ]
  },
  {
   "cell_type": "markdown",
   "metadata": {},
   "source": [
    "### **Task 3: Formatting Timestamps**\n",
    "\n",
    "1. From Task 2, we are still in the `data/timestamps` directory.\n",
    "   \n",
    "2. Use the `date` command with the desired format to print the current date and time:\n",
    "   - `date +\"%Y%m%d_%H%M%S\"`\n",
    "   \n",
    "3. Use the command from step 2 with the `>>` operator to append the output into a file named `formatted.txt`:\n",
    "   - `date +\"%Y%m%d_%H%M%S\" >> formatted.txt`\n",
    "   \n",
    "4. Use the `cat` command to read and verify the contents of `formatted.txt`:\n",
    "   - `cat formatted.txt`\n",
    "\n",
    "[Reference: Date formatting in Linux](https://phoenixnap.com/kb/linux-date-command)\n"
   ]
  },
  {
   "cell_type": "markdown",
   "metadata": {},
   "source": [
    "### **Task 4: Create Timestamped Files**\n",
    "\n",
    "1. From Task 3, we are still in the `data/timestamps` directory.\n",
    "   \n",
    "2. Use the `touch` command with the `date` command and the desired format to create an empty file named with the current date and timestamp:\n",
    "   - `touch $(date +\"%Y%m%d_%H%M%S\").txt`\n",
    "\n",
    "[Reference: How to create a file with today's date in the filename](https://stackoverflow.com/questions/48270960/how-to-create-a-file-with-todays-date-in-the-filename)<br/>\n",
    "[Reference: How to create a file with today's date in the filename (2)](https://superuser.com/questions/399475/in-linux-how-to-make-a-file-with-a-name-that-is-current-date-and-time)<br/>"
   ]
  },
  {
   "cell_type": "markdown",
   "metadata": {},
   "source": [
    "### **Task 5: Download Today's Weather Data**\n",
    "\n",
    "1. Navigate to the `weather` directory:\n",
    "   - `cd data/weather`\n",
    "   \n",
    "2. Use the `wget` command to download the file from the web. Use the `-O` option to name the file where the data will be saved:\n",
    "   - `wget -O weather.json https://prodapi.metweb.ie/observations/athenry/today`\n",
    "   \n",
    "3. Verify that the file has been created:\n",
    "   - `ls`\n",
    "\n",
    "[Reference: Use wget to download and name file](https://stackoverflow.com/questions/16678487/how-to-change-filename-of-a-file-downloaded-with-wget)"
   ]
  },
  {
   "cell_type": "markdown",
   "metadata": {},
   "source": [
    "### **Task 6: Timestamp the Data**\n",
    "\n",
    "1. From Task 5, we are still in the `data/weather` directory.\n",
    "   \n",
    "2. Modify the command from Task 5 to name the JSON file with today’s date and timestamp:\n",
    "   - `wget -O $(date +\"%Y%m%d_%H%M%S\").json https://prodapi.metweb.ie/observations/athenry/today`\n",
    "   \n",
    "3. Verify that the file has been created:\n",
    "   - `ls`\n"
   ]
  }
 ],
 "metadata": {
  "language_info": {
   "name": "python"
  }
 },
 "nbformat": 4,
 "nbformat_minor": 2
}
