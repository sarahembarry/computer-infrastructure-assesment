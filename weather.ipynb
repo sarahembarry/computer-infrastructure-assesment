{
 "cells": [
  {
   "cell_type": "markdown",
   "metadata": {},
   "source": [
    "### **Task 1: Create Directory Structure**\n",
    "\n",
    "In github code spaces using the terminal command line:\n",
    "\n",
    "1. Navigate to the root of the repository: \n",
    "- **cd** /workspaces/computer-infrastructure-assessment\n",
    "2. Create a 'data' directory with two subdirectories 'timestamps' and 'weather':\n",
    "- **mkdir** -p data/timestamps data/weather"
   ]
  },
  {
   "cell_type": "markdown",
   "metadata": {},
   "source": [
    "### **Task 2: Timestamps**\n",
    "\n",
    "1. Navigate to the data/timestamps directory:\n",
    "- **cd** data/timestamps\n",
    "2. Use the 'date' command to output the current date and time to a text file name 'now.txt':\n",
    "- **date**>> now.txt\n",
    "3. Repeat this 10 times by creating a for loop that appends to the file rather than overwriting it:\n",
    "- **for** i **in** {1..10}; **do date** >> now.txt; **done**\n",
    "4. Use the 'cat' command to read and verify the contents of 'now.txt':\n",
    "- **cat** now.txt\n",
    "\n",
    "[Reference:'Date' command in Linux](https://www.geeksforgeeks.org/date-command-linux-examples/t)<br/>\n",
    "[Reference: Write current date/time to a file](https://stackoverflow.com/questions/43221469/write-current-date-time-to-a-file-using-shell-script)<br/>\n",
    "[Reference: Run date command a number of times in Linux](https://www.cyberciti.biz/faq/bsd-appleosx-linux-bash-shell-run-command-n-times/)\n",
    "\n"
   ]
  },
  {
   "cell_type": "markdown",
   "metadata": {},
   "source": [
    "### **Task 3: Formatting Timestamps**\n",
    "\n",
    "1. From task 2 we are still in the data/timestamps directory:\n",
    "2. Use the'date' command with the desired format to print the current date and time:\n",
    "- **date**+\"%Y%m%d_%H%M%S\"\n",
    "3. Use the command from step 2 with the >> operator to append the output into a file named'formatted.txt':\n",
    "- **date** +\"%Y%m%d_%H%M%S\" >> formatted.txt\n",
    "4. Use the cat command to read and verify the contents of'formatted.txt':\n",
    "- **cat** formatted.txt\n",
    "\n",
    "[Reference:Date formatting in Linux](https://phoenixnap.com/kb/linux-date-command)"
   ]
  }
 ],
 "metadata": {
  "language_info": {
   "name": "python"
  }
 },
 "nbformat": 4,
 "nbformat_minor": 2
}
