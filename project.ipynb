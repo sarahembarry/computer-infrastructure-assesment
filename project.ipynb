{
 "cells": [
  {
   "cell_type": "markdown",
   "metadata": {},
   "source": [
    "### **1: Create a GitHub Actions Workflow**\n",
    "\n",
    "In GitHub Codespaces using the terminal command line:\n",
    "\n",
    "1. Navigate to the root of the repository: \n",
    "   ```bash\n",
    "   cd /workspaces/computer-infrastructure-assessment\n",
    "\n",
    "2. Create a `data` directory with two subdirectories: `timestamps` and `weather`:\n",
    "   ```bash\n",
    "   mkdir data\n",
    "   mkdir data/timestamps data/weather\n",
    "\n",
    "3. Inside the `.github/workflows/` directory, create a file named `weather-data.yml`:\n",
    "   ```bash\n",
    "   nano .github/workflows/weather-data.yml\n",
    "   \n"
   ]
  },
  {
   "cell_type": "markdown",
   "metadata": {},
   "source": [
    "### **2: Run Daily at 10am**\n",
    "### **3: Use a Linux Virtual Machine**\n",
    "### **4: Clone the Repository**\n",
    "### **5: Execute the weather.sh Script**\n",
    "### **6: Commit and Push Changes Back to the Repository**\n",
    "\n",
    "1. In the Nano editor, write the YAML content (see `weather-data.yml` for content for tasks 2-6).\n",
    "\n",
    "2. Save the File in Nano:\n",
    "   - Press `CTRL + O` to save the file.\n",
    "   - Press `Enter` to confirm the file name.\n",
    "   - Press `CTRL + X` to exit nano.\n",
    "\n",
    "[Reference: Create shell script in nano](https://www.linuxandubuntu.com/home/how-to-create-shell-scripts/)\n",
    "\n",
    "\n"
   ]
  }
 ],
 "metadata": {
  "language_info": {
   "name": "python"
  }
 },
 "nbformat": 4,
 "nbformat_minor": 2
}
